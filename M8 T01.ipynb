{
 "cells": [
  {
   "cell_type": "markdown",
   "id": "81f8fb0a",
   "metadata": {},
   "source": [
    "# Exercici 1\n",
    "## Descarrega el dataset adjunt, de registres de publicacions a Facebook sobre Tailàndia, i classifica els diferents registres utilitzant l'algorisme de K-means."
   ]
  },
  {
   "attachments": {
    "image-2.png": {
     "image/png": "[encoded data removed]"
    }
   },
   "cell_type": "markdown",
   "id": "c57d8634",
   "metadata": {},
   "source": [
    "![image-2.png](attachment:image-2.png)"
   ]
  },
  {
   "cell_type": "code",
   "execution_count": 1,
   "id": "01b7097f",
   "metadata": {},
   "outputs": [],
   "source": [
    "# Generic\n",
    "import pandas as pd\n",
    "import numpy as np\n",
    "\n",
    "# Metodo de Normalización\n",
    "from sklearn.preprocessing import RobustScaler\n",
    "\n",
    "# Princial components analysis (PCA)\n",
    "from sklearn.preprocessing import StandardScaler\n",
    "from sklearn.decomposition import PCA\n",
    "\n",
    "# Data Visualization\n",
    "import matplotlib.pyplot as plt\n",
    "import seaborn as sns\n",
    "\n"
   ]
  },
  {
   "cell_type": "code",
   "execution_count": 2,
   "id": "6749ae19",
   "metadata": {},
   "outputs": [
    {
     "data": {
      "text/html": [
       "<div>\n",
       "<style scoped>\n",
       "    .dataframe tbody tr th:only-of-type {\n",
       "        vertical-align: middle;\n",
       "    }\n",
       "\n",
       "    .dataframe tbody tr th {\n",
       "        vertical-align: top;\n",
       "    }\n",
       "\n",
       "    .dataframe thead th {\n",
       "        text-align: right;\n",
       "    }\n",
       "</style>\n",
       "<table border=\"1\" class=\"dataframe\">\n",
       "  <thead>\n",
       "    <tr style=\"text-align: right;\">\n",
       "      <th></th>\n",
       "      <th>status_id</th>\n",
       "      <th>status_type</th>\n",
       "      <th>status_published</th>\n",
       "      <th>num_reactions</th>\n",
       "      <th>num_comments</th>\n",
       "      <th>num_shares</th>\n",
       "      <th>num_likes</th>\n",
       "      <th>num_loves</th>\n",
       "      <th>num_wows</th>\n",
       "      <th>num_hahas</th>\n",
       "      <th>num_sads</th>\n",
       "      <th>num_angrys</th>\n",
       "      <th>Column1</th>\n",
       "      <th>Column2</th>\n",
       "      <th>Column3</th>\n",
       "      <th>Column4</th>\n",
       "    </tr>\n",
       "  </thead>\n",
       "  <tbody>\n",
       "    <tr>\n",
       "      <th>0</th>\n",
       "      <td>246675545449582_1649696485147474</td>\n",
       "      <td>video</td>\n",
       "      <td>4/22/2018 6:00</td>\n",
       "      <td>529</td>\n",
       "      <td>512</td>\n",
       "      <td>262</td>\n",
       "      <td>432</td>\n",
       "      <td>92</td>\n",
       "      <td>3</td>\n",
       "      <td>1</td>\n",
       "      <td>1</td>\n",
       "      <td>0</td>\n",
       "      <td>NaN</td>\n",
       "      <td>NaN</td>\n",
       "      <td>NaN</td>\n",
       "      <td>NaN</td>\n",
       "    </tr>\n",
       "    <tr>\n",
       "      <th>1</th>\n",
       "      <td>246675545449582_1649426988507757</td>\n",
       "      <td>photo</td>\n",
       "      <td>4/21/2018 22:45</td>\n",
       "      <td>150</td>\n",
       "      <td>0</td>\n",
       "      <td>0</td>\n",
       "      <td>150</td>\n",
       "      <td>0</td>\n",
       "      <td>0</td>\n",
       "      <td>0</td>\n",
       "      <td>0</td>\n",
       "      <td>0</td>\n",
       "      <td>NaN</td>\n",
       "      <td>NaN</td>\n",
       "      <td>NaN</td>\n",
       "      <td>NaN</td>\n",
       "    </tr>\n",
       "    <tr>\n",
       "      <th>2</th>\n",
       "      <td>246675545449582_1648730588577397</td>\n",
       "      <td>video</td>\n",
       "      <td>4/21/2018 6:17</td>\n",
       "      <td>227</td>\n",
       "      <td>236</td>\n",
       "      <td>57</td>\n",
       "      <td>204</td>\n",
       "      <td>21</td>\n",
       "      <td>1</td>\n",
       "      <td>1</td>\n",
       "      <td>0</td>\n",
       "      <td>0</td>\n",
       "      <td>NaN</td>\n",
       "      <td>NaN</td>\n",
       "      <td>NaN</td>\n",
       "      <td>NaN</td>\n",
       "    </tr>\n",
       "    <tr>\n",
       "      <th>3</th>\n",
       "      <td>246675545449582_1648576705259452</td>\n",
       "      <td>photo</td>\n",
       "      <td>4/21/2018 2:29</td>\n",
       "      <td>111</td>\n",
       "      <td>0</td>\n",
       "      <td>0</td>\n",
       "      <td>111</td>\n",
       "      <td>0</td>\n",
       "      <td>0</td>\n",
       "      <td>0</td>\n",
       "      <td>0</td>\n",
       "      <td>0</td>\n",
       "      <td>NaN</td>\n",
       "      <td>NaN</td>\n",
       "      <td>NaN</td>\n",
       "      <td>NaN</td>\n",
       "    </tr>\n",
       "    <tr>\n",
       "      <th>4</th>\n",
       "      <td>246675545449582_1645700502213739</td>\n",
       "      <td>photo</td>\n",
       "      <td>4/18/2018 3:22</td>\n",
       "      <td>213</td>\n",
       "      <td>0</td>\n",
       "      <td>0</td>\n",
       "      <td>204</td>\n",
       "      <td>9</td>\n",
       "      <td>0</td>\n",
       "      <td>0</td>\n",
       "      <td>0</td>\n",
       "      <td>0</td>\n",
       "      <td>NaN</td>\n",
       "      <td>NaN</td>\n",
       "      <td>NaN</td>\n",
       "      <td>NaN</td>\n",
       "    </tr>\n",
       "  </tbody>\n",
       "</table>\n",
       "</div>"
      ],
      "text/plain": [
       "                          status_id status_type status_published  \\\n",
       "0  246675545449582_1649696485147474       video   4/22/2018 6:00   \n",
       "1  246675545449582_1649426988507757       photo  4/21/2018 22:45   \n",
       "2  246675545449582_1648730588577397       video   4/21/2018 6:17   \n",
       "3  246675545449582_1648576705259452       photo   4/21/2018 2:29   \n",
       "4  246675545449582_1645700502213739       photo   4/18/2018 3:22   \n",
       "\n",
       "   num_reactions  num_comments  num_shares  num_likes  num_loves  num_wows  \\\n",
       "0            529           512         262        432         92         3   \n",
       "1            150             0           0        150          0         0   \n",
       "2            227           236          57        204         21         1   \n",
       "3            111             0           0        111          0         0   \n",
       "4            213             0           0        204          9         0   \n",
       "\n",
       "   num_hahas  num_sads  num_angrys  Column1  Column2  Column3  Column4  \n",
       "0          1         1           0      NaN      NaN      NaN      NaN  \n",
       "1          0         0           0      NaN      NaN      NaN      NaN  \n",
       "2          1         0           0      NaN      NaN      NaN      NaN  \n",
       "3          0         0           0      NaN      NaN      NaN      NaN  \n",
       "4          0         0           0      NaN      NaN      NaN      NaN  "
      ]
     },
     "execution_count": 2,
     "metadata": {},
     "output_type": "execute_result"
    }
   ],
   "source": [
    "data = pd.read_csv('C:/Users/alpid/Downloads/Publicacions Facebook Thailandia.csv', sep=\",\")\n",
    "data.head()"
   ]
  },
  {
   "cell_type": "markdown",
   "id": "0915e835",
   "metadata": {},
   "source": [
    "### 1.1 Preproceso: analisis y limpieza de datos"
   ]
  },
  {
   "cell_type": "code",
   "execution_count": 3,
   "id": "16225dea",
   "metadata": {
    "scrolled": true
   },
   "outputs": [
    {
     "name": "stdout",
     "output_type": "stream",
     "text": [
      "<class 'pandas.core.frame.DataFrame'>\n",
      "RangeIndex: 7050 entries, 0 to 7049\n",
      "Data columns (total 16 columns):\n",
      " #   Column            Non-Null Count  Dtype  \n",
      "---  ------            --------------  -----  \n",
      " 0   status_id         7050 non-null   object \n",
      " 1   status_type       7050 non-null   object \n",
      " 2   status_published  7050 non-null   object \n",
      " 3   num_reactions     7050 non-null   int64  \n",
      " 4   num_comments      7050 non-null   int64  \n",
      " 5   num_shares        7050 non-null   int64  \n",
      " 6   num_likes         7050 non-null   int64  \n",
      " 7   num_loves         7050 non-null   int64  \n",
      " 8   num_wows          7050 non-null   int64  \n",
      " 9   num_hahas         7050 non-null   int64  \n",
      " 10  num_sads          7050 non-null   int64  \n",
      " 11  num_angrys        7050 non-null   int64  \n",
      " 12  Column1           0 non-null      float64\n",
      " 13  Column2           0 non-null      float64\n",
      " 14  Column3           0 non-null      float64\n",
      " 15  Column4           0 non-null      float64\n",
      "dtypes: float64(4), int64(9), object(3)\n",
      "memory usage: 881.4+ KB\n"
     ]
    }
   ],
   "source": [
    "data.info()"
   ]
  },
  {
   "cell_type": "code",
   "execution_count": 4,
   "id": "99b5e21a",
   "metadata": {},
   "outputs": [
    {
     "data": {
      "text/plain": [
       "(7050, 16)"
      ]
     },
     "execution_count": 4,
     "metadata": {},
     "output_type": "execute_result"
    }
   ],
   "source": [
    "data.shape"
   ]
  },
  {
   "cell_type": "code",
   "execution_count": 5,
   "id": "049fad15",
   "metadata": {},
   "outputs": [
    {
     "data": {
      "text/plain": [
       "status_id           False\n",
       "status_type         False\n",
       "status_published    False\n",
       "num_reactions       False\n",
       "num_comments        False\n",
       "num_shares          False\n",
       "num_likes           False\n",
       "num_loves           False\n",
       "num_wows            False\n",
       "num_hahas           False\n",
       "num_sads            False\n",
       "num_angrys          False\n",
       "Column1              True\n",
       "Column2              True\n",
       "Column3              True\n",
       "Column4              True\n",
       "dtype: bool"
      ]
     },
     "execution_count": 5,
     "metadata": {},
     "output_type": "execute_result"
    }
   ],
   "source": [
    "data.isna().all()  # Aunque en el daata.info() ya se ve, verifico si hay columnas sin valores y las elimino"
   ]
  },
  {
   "cell_type": "code",
   "execution_count": 6,
   "id": "519735a4",
   "metadata": {},
   "outputs": [],
   "source": [
    "data = data.dropna(axis=1, how=\"all\")"
   ]
  },
  {
   "cell_type": "code",
   "execution_count": 7,
   "id": "3f855d98",
   "metadata": {},
   "outputs": [
    {
     "data": {
      "text/html": [
       "<div>\n",
       "<style scoped>\n",
       "    .dataframe tbody tr th:only-of-type {\n",
       "        vertical-align: middle;\n",
       "    }\n",
       "\n",
       "    .dataframe tbody tr th {\n",
       "        vertical-align: top;\n",
       "    }\n",
       "\n",
       "    .dataframe thead th {\n",
       "        text-align: right;\n",
       "    }\n",
       "</style>\n",
       "<table border=\"1\" class=\"dataframe\">\n",
       "  <thead>\n",
       "    <tr style=\"text-align: right;\">\n",
       "      <th></th>\n",
       "      <th>status_id</th>\n",
       "      <th>status_type</th>\n",
       "      <th>status_published</th>\n",
       "      <th>num_reactions</th>\n",
       "      <th>num_comments</th>\n",
       "      <th>num_shares</th>\n",
       "      <th>num_likes</th>\n",
       "      <th>num_loves</th>\n",
       "      <th>num_wows</th>\n",
       "      <th>num_hahas</th>\n",
       "      <th>num_sads</th>\n",
       "      <th>num_angrys</th>\n",
       "    </tr>\n",
       "  </thead>\n",
       "  <tbody>\n",
       "    <tr>\n",
       "      <th>0</th>\n",
       "      <td>246675545449582_1649696485147474</td>\n",
       "      <td>video</td>\n",
       "      <td>4/22/2018 6:00</td>\n",
       "      <td>529</td>\n",
       "      <td>512</td>\n",
       "      <td>262</td>\n",
       "      <td>432</td>\n",
       "      <td>92</td>\n",
       "      <td>3</td>\n",
       "      <td>1</td>\n",
       "      <td>1</td>\n",
       "      <td>0</td>\n",
       "    </tr>\n",
       "    <tr>\n",
       "      <th>1</th>\n",
       "      <td>246675545449582_1649426988507757</td>\n",
       "      <td>photo</td>\n",
       "      <td>4/21/2018 22:45</td>\n",
       "      <td>150</td>\n",
       "      <td>0</td>\n",
       "      <td>0</td>\n",
       "      <td>150</td>\n",
       "      <td>0</td>\n",
       "      <td>0</td>\n",
       "      <td>0</td>\n",
       "      <td>0</td>\n",
       "      <td>0</td>\n",
       "    </tr>\n",
       "    <tr>\n",
       "      <th>2</th>\n",
       "      <td>246675545449582_1648730588577397</td>\n",
       "      <td>video</td>\n",
       "      <td>4/21/2018 6:17</td>\n",
       "      <td>227</td>\n",
       "      <td>236</td>\n",
       "      <td>57</td>\n",
       "      <td>204</td>\n",
       "      <td>21</td>\n",
       "      <td>1</td>\n",
       "      <td>1</td>\n",
       "      <td>0</td>\n",
       "      <td>0</td>\n",
       "    </tr>\n",
       "    <tr>\n",
       "      <th>3</th>\n",
       "      <td>246675545449582_1648576705259452</td>\n",
       "      <td>photo</td>\n",
       "      <td>4/21/2018 2:29</td>\n",
       "      <td>111</td>\n",
       "      <td>0</td>\n",
       "      <td>0</td>\n",
       "      <td>111</td>\n",
       "      <td>0</td>\n",
       "      <td>0</td>\n",
       "      <td>0</td>\n",
       "      <td>0</td>\n",
       "      <td>0</td>\n",
       "    </tr>\n",
       "    <tr>\n",
       "      <th>4</th>\n",
       "      <td>246675545449582_1645700502213739</td>\n",
       "      <td>photo</td>\n",
       "      <td>4/18/2018 3:22</td>\n",
       "      <td>213</td>\n",
       "      <td>0</td>\n",
       "      <td>0</td>\n",
       "      <td>204</td>\n",
       "      <td>9</td>\n",
       "      <td>0</td>\n",
       "      <td>0</td>\n",
       "      <td>0</td>\n",
       "      <td>0</td>\n",
       "    </tr>\n",
       "  </tbody>\n",
       "</table>\n",
       "</div>"
      ],
      "text/plain": [
       "                          status_id status_type status_published  \\\n",
       "0  246675545449582_1649696485147474       video   4/22/2018 6:00   \n",
       "1  246675545449582_1649426988507757       photo  4/21/2018 22:45   \n",
       "2  246675545449582_1648730588577397       video   4/21/2018 6:17   \n",
       "3  246675545449582_1648576705259452       photo   4/21/2018 2:29   \n",
       "4  246675545449582_1645700502213739       photo   4/18/2018 3:22   \n",
       "\n",
       "   num_reactions  num_comments  num_shares  num_likes  num_loves  num_wows  \\\n",
       "0            529           512         262        432         92         3   \n",
       "1            150             0           0        150          0         0   \n",
       "2            227           236          57        204         21         1   \n",
       "3            111             0           0        111          0         0   \n",
       "4            213             0           0        204          9         0   \n",
       "\n",
       "   num_hahas  num_sads  num_angrys  \n",
       "0          1         1           0  \n",
       "1          0         0           0  \n",
       "2          1         0           0  \n",
       "3          0         0           0  \n",
       "4          0         0           0  "
      ]
     },
     "execution_count": 7,
     "metadata": {},
     "output_type": "execute_result"
    }
   ],
   "source": [
    "data.head()"
   ]
  },
  {
   "cell_type": "code",
   "execution_count": 8,
   "id": "fd3bd997",
   "metadata": {},
   "outputs": [
    {
     "data": {
      "text/plain": [
       "(7050, 12)"
      ]
     },
     "execution_count": 8,
     "metadata": {},
     "output_type": "execute_result"
    }
   ],
   "source": [
    "data.shape"
   ]
  },
  {
   "cell_type": "code",
   "execution_count": 9,
   "id": "26ff9277",
   "metadata": {},
   "outputs": [],
   "source": [
    "# Elimino filas duplicadas en el DataFrame\n",
    "data = data.drop_duplicates()"
   ]
  },
  {
   "cell_type": "code",
   "execution_count": 10,
   "id": "70d54530",
   "metadata": {},
   "outputs": [
    {
     "data": {
      "text/plain": [
       "(6999, 12)"
      ]
     },
     "execution_count": 10,
     "metadata": {},
     "output_type": "execute_result"
    }
   ],
   "source": [
    "data.shape"
   ]
  },
  {
   "cell_type": "markdown",
   "id": "ea7c5bdd",
   "metadata": {},
   "source": [
    "A considerar:\n",
    "- La columna de **status_id** no me aporta informacion así que la eliminaré.  \n",
    "- La columna de **status_published** me aporta información que pudiera ser relevante para el clustering pero desgraciadamente K-mean no trabaja bien con fechas ni horas porque aunque las haya descompuesto en componentes numéricos, el algoritmo se basa en la distancia euclidiana y puede no ser apropiado para datos de fecha y hora, y menos si tengo que escalar las características numéricas, arriesgandome a tener reultados absurdos.  \n",
    "Así que también la eliminaré.  \n",
    "- Con la columna de **status_type** que distingue si es video, photo, etc,... tengo dos opciones para manejarla:  \n",
    "(1) codificarlas con label Encoder  \n",
    "(2) convertir cada tipo en columnas dummies de 0 o 1.  \n",
    "En este caso, Label Encoder no es apropiado porque no se trata de categorias con un orden o una jeraquía implícita, y aunque añadir columnas incrementa el número de características, no hay tantas columnas y he elminiado ya algunas, así que crearé las dummies, por si son relevantes para las agrupaciones.\n"
   ]
  },
  {
   "cell_type": "code",
   "execution_count": 11,
   "id": "5bdbd2bf",
   "metadata": {},
   "outputs": [],
   "source": [
    "data = data.drop([\"status_id\", \"status_published\"], axis=1)"
   ]
  },
  {
   "cell_type": "code",
   "execution_count": 12,
   "id": "908ce6cc",
   "metadata": {
    "scrolled": true
   },
   "outputs": [
    {
     "data": {
      "text/html": [
       "<div>\n",
       "<style scoped>\n",
       "    .dataframe tbody tr th:only-of-type {\n",
       "        vertical-align: middle;\n",
       "    }\n",
       "\n",
       "    .dataframe tbody tr th {\n",
       "        vertical-align: top;\n",
       "    }\n",
       "\n",
       "    .dataframe thead th {\n",
       "        text-align: right;\n",
       "    }\n",
       "</style>\n",
       "<table border=\"1\" class=\"dataframe\">\n",
       "  <thead>\n",
       "    <tr style=\"text-align: right;\">\n",
       "      <th></th>\n",
       "      <th>status_type</th>\n",
       "      <th>num_reactions</th>\n",
       "      <th>num_comments</th>\n",
       "      <th>num_shares</th>\n",
       "      <th>num_likes</th>\n",
       "      <th>num_loves</th>\n",
       "      <th>num_wows</th>\n",
       "      <th>num_hahas</th>\n",
       "      <th>num_sads</th>\n",
       "      <th>num_angrys</th>\n",
       "    </tr>\n",
       "  </thead>\n",
       "  <tbody>\n",
       "    <tr>\n",
       "      <th>0</th>\n",
       "      <td>video</td>\n",
       "      <td>529</td>\n",
       "      <td>512</td>\n",
       "      <td>262</td>\n",
       "      <td>432</td>\n",
       "      <td>92</td>\n",
       "      <td>3</td>\n",
       "      <td>1</td>\n",
       "      <td>1</td>\n",
       "      <td>0</td>\n",
       "    </tr>\n",
       "    <tr>\n",
       "      <th>1</th>\n",
       "      <td>photo</td>\n",
       "      <td>150</td>\n",
       "      <td>0</td>\n",
       "      <td>0</td>\n",
       "      <td>150</td>\n",
       "      <td>0</td>\n",
       "      <td>0</td>\n",
       "      <td>0</td>\n",
       "      <td>0</td>\n",
       "      <td>0</td>\n",
       "    </tr>\n",
       "    <tr>\n",
       "      <th>2</th>\n",
       "      <td>video</td>\n",
       "      <td>227</td>\n",
       "      <td>236</td>\n",
       "      <td>57</td>\n",
       "      <td>204</td>\n",
       "      <td>21</td>\n",
       "      <td>1</td>\n",
       "      <td>1</td>\n",
       "      <td>0</td>\n",
       "      <td>0</td>\n",
       "    </tr>\n",
       "    <tr>\n",
       "      <th>3</th>\n",
       "      <td>photo</td>\n",
       "      <td>111</td>\n",
       "      <td>0</td>\n",
       "      <td>0</td>\n",
       "      <td>111</td>\n",
       "      <td>0</td>\n",
       "      <td>0</td>\n",
       "      <td>0</td>\n",
       "      <td>0</td>\n",
       "      <td>0</td>\n",
       "    </tr>\n",
       "    <tr>\n",
       "      <th>4</th>\n",
       "      <td>photo</td>\n",
       "      <td>213</td>\n",
       "      <td>0</td>\n",
       "      <td>0</td>\n",
       "      <td>204</td>\n",
       "      <td>9</td>\n",
       "      <td>0</td>\n",
       "      <td>0</td>\n",
       "      <td>0</td>\n",
       "      <td>0</td>\n",
       "    </tr>\n",
       "  </tbody>\n",
       "</table>\n",
       "</div>"
      ],
      "text/plain": [
       "  status_type  num_reactions  num_comments  num_shares  num_likes  num_loves  \\\n",
       "0       video            529           512         262        432         92   \n",
       "1       photo            150             0           0        150          0   \n",
       "2       video            227           236          57        204         21   \n",
       "3       photo            111             0           0        111          0   \n",
       "4       photo            213             0           0        204          9   \n",
       "\n",
       "   num_wows  num_hahas  num_sads  num_angrys  \n",
       "0         3          1         1           0  \n",
       "1         0          0         0           0  \n",
       "2         1          1         0           0  \n",
       "3         0          0         0           0  \n",
       "4         0          0         0           0  "
      ]
     },
     "execution_count": 12,
     "metadata": {},
     "output_type": "execute_result"
    }
   ],
   "source": [
    "data.head()"
   ]
  },
  {
   "cell_type": "code",
   "execution_count": 13,
   "id": "b1f10385",
   "metadata": {},
   "outputs": [
    {
     "data": {
      "text/plain": [
       "(6999, 10)"
      ]
     },
     "execution_count": 13,
     "metadata": {},
     "output_type": "execute_result"
    }
   ],
   "source": [
    "data.shape"
   ]
  },
  {
   "cell_type": "code",
   "execution_count": 14,
   "id": "9676e79c",
   "metadata": {},
   "outputs": [
    {
     "data": {
      "text/html": [
       "<div>\n",
       "<style scoped>\n",
       "    .dataframe tbody tr th:only-of-type {\n",
       "        vertical-align: middle;\n",
       "    }\n",
       "\n",
       "    .dataframe tbody tr th {\n",
       "        vertical-align: top;\n",
       "    }\n",
       "\n",
       "    .dataframe thead th {\n",
       "        text-align: right;\n",
       "    }\n",
       "</style>\n",
       "<table border=\"1\" class=\"dataframe\">\n",
       "  <thead>\n",
       "    <tr style=\"text-align: right;\">\n",
       "      <th></th>\n",
       "      <th>num_reactions</th>\n",
       "      <th>num_comments</th>\n",
       "      <th>num_shares</th>\n",
       "      <th>num_likes</th>\n",
       "      <th>num_loves</th>\n",
       "      <th>num_wows</th>\n",
       "      <th>num_hahas</th>\n",
       "      <th>num_sads</th>\n",
       "      <th>num_angrys</th>\n",
       "      <th>status_type_link</th>\n",
       "      <th>status_type_photo</th>\n",
       "      <th>status_type_status</th>\n",
       "      <th>status_type_video</th>\n",
       "    </tr>\n",
       "  </thead>\n",
       "  <tbody>\n",
       "    <tr>\n",
       "      <th>0</th>\n",
       "      <td>529</td>\n",
       "      <td>512</td>\n",
       "      <td>262</td>\n",
       "      <td>432</td>\n",
       "      <td>92</td>\n",
       "      <td>3</td>\n",
       "      <td>1</td>\n",
       "      <td>1</td>\n",
       "      <td>0</td>\n",
       "      <td>0</td>\n",
       "      <td>0</td>\n",
       "      <td>0</td>\n",
       "      <td>1</td>\n",
       "    </tr>\n",
       "    <tr>\n",
       "      <th>1</th>\n",
       "      <td>150</td>\n",
       "      <td>0</td>\n",
       "      <td>0</td>\n",
       "      <td>150</td>\n",
       "      <td>0</td>\n",
       "      <td>0</td>\n",
       "      <td>0</td>\n",
       "      <td>0</td>\n",
       "      <td>0</td>\n",
       "      <td>0</td>\n",
       "      <td>1</td>\n",
       "      <td>0</td>\n",
       "      <td>0</td>\n",
       "    </tr>\n",
       "    <tr>\n",
       "      <th>2</th>\n",
       "      <td>227</td>\n",
       "      <td>236</td>\n",
       "      <td>57</td>\n",
       "      <td>204</td>\n",
       "      <td>21</td>\n",
       "      <td>1</td>\n",
       "      <td>1</td>\n",
       "      <td>0</td>\n",
       "      <td>0</td>\n",
       "      <td>0</td>\n",
       "      <td>0</td>\n",
       "      <td>0</td>\n",
       "      <td>1</td>\n",
       "    </tr>\n",
       "    <tr>\n",
       "      <th>3</th>\n",
       "      <td>111</td>\n",
       "      <td>0</td>\n",
       "      <td>0</td>\n",
       "      <td>111</td>\n",
       "      <td>0</td>\n",
       "      <td>0</td>\n",
       "      <td>0</td>\n",
       "      <td>0</td>\n",
       "      <td>0</td>\n",
       "      <td>0</td>\n",
       "      <td>1</td>\n",
       "      <td>0</td>\n",
       "      <td>0</td>\n",
       "    </tr>\n",
       "    <tr>\n",
       "      <th>4</th>\n",
       "      <td>213</td>\n",
       "      <td>0</td>\n",
       "      <td>0</td>\n",
       "      <td>204</td>\n",
       "      <td>9</td>\n",
       "      <td>0</td>\n",
       "      <td>0</td>\n",
       "      <td>0</td>\n",
       "      <td>0</td>\n",
       "      <td>0</td>\n",
       "      <td>1</td>\n",
       "      <td>0</td>\n",
       "      <td>0</td>\n",
       "    </tr>\n",
       "  </tbody>\n",
       "</table>\n",
       "</div>"
      ],
      "text/plain": [
       "   num_reactions  num_comments  num_shares  num_likes  num_loves  num_wows  \\\n",
       "0            529           512         262        432         92         3   \n",
       "1            150             0           0        150          0         0   \n",
       "2            227           236          57        204         21         1   \n",
       "3            111             0           0        111          0         0   \n",
       "4            213             0           0        204          9         0   \n",
       "\n",
       "   num_hahas  num_sads  num_angrys  status_type_link  status_type_photo  \\\n",
       "0          1         1           0                 0                  0   \n",
       "1          0         0           0                 0                  1   \n",
       "2          1         0           0                 0                  0   \n",
       "3          0         0           0                 0                  1   \n",
       "4          0         0           0                 0                  1   \n",
       "\n",
       "   status_type_status  status_type_video  \n",
       "0                   0                  1  \n",
       "1                   0                  0  \n",
       "2                   0                  1  \n",
       "3                   0                  0  \n",
       "4                   0                  0  "
      ]
     },
     "execution_count": 14,
     "metadata": {},
     "output_type": "execute_result"
    }
   ],
   "source": [
    "data = pd.get_dummies(data, columns=['status_type'])\n",
    "data.head()"
   ]
  },
  {
   "cell_type": "code",
   "execution_count": 15,
   "id": "3d6b3108",
   "metadata": {},
   "outputs": [
    {
     "data": {
      "text/plain": [
       "(6999, 13)"
      ]
     },
     "execution_count": 15,
     "metadata": {},
     "output_type": "execute_result"
    }
   ],
   "source": [
    "data.shape"
   ]
  },
  {
   "cell_type": "markdown",
   "id": "64369ecd",
   "metadata": {},
   "source": [
    "Verificaré de forma gráffica si hay outliers."
   ]
  },
  {
   "cell_type": "code",
   "execution_count": 16,
   "id": "0bbcd01f",
   "metadata": {},
   "outputs": [
    {
     "data": {
      "text/plain": [
       "(array([ 0,  1,  2,  3,  4,  5,  6,  7,  8,  9, 10, 11, 12]),\n",
       " [Text(0, 0, 'num_reactions'),\n",
       "  Text(1, 0, 'num_comments'),\n",
       "  Text(2, 0, 'num_shares'),\n",
       "  Text(3, 0, 'num_likes'),\n",
       "  Text(4, 0, 'num_loves'),\n",
       "  Text(5, 0, 'num_wows'),\n",
       "  Text(6, 0, 'num_hahas'),\n",
       "  Text(7, 0, 'num_sads'),\n",
       "  Text(8, 0, 'num_angrys'),\n",
       "  Text(9, 0, 'status_type_link'),\n",
       "  Text(10, 0, 'status_type_photo'),\n",
       "  Text(11, 0, 'status_type_status'),\n",
       "  Text(12, 0, 'status_type_video')])"
      ]
     },
     "execution_count": 16,
     "metadata": {},
     "output_type": "execute_result"
    },
    {
     "data": {
      "image/png": "[encoded data removed]",
      "text/plain": [
       "<Figure size 640x480 with 1 Axes>"
      ]
     },
     "metadata": {},
     "output_type": "display_data"
    }
   ],
   "source": [
    "sns.boxplot(data)\n",
    "plt.xticks(rotation='vertical')"
   ]
  },
  {
   "cell_type": "markdown",
   "id": "9154f8a8",
   "metadata": {},
   "source": [
    "Veo que hay un elevado numero de outliers pero, salvo en el caso de los outliers de Num_commnets que claramente estan distanciados de la gran mayoria de resutaldos, el resto no parecen estar tan lejos de sus congeneres, por eso tengo mis dudas de que no sean relevantes para el analisis así que los dejo y procedo a la normalización.  \n",
    "  \n",
    "Dado que los outliers peuden ser relevantes voy a usar como método de normalización el RobustScaler que es menos sensible a estos."
   ]
  },
  {
   "cell_type": "markdown",
   "id": "7f614b55",
   "metadata": {},
   "source": [
    "### 1.2 Preproceso: Normalización"
   ]
  },
  {
   "cell_type": "code",
   "execution_count": 17,
   "id": "d8eb7cb2",
   "metadata": {},
   "outputs": [
    {
     "data": {
      "text/html": [
       "<div>\n",
       "<style scoped>\n",
       "    .dataframe tbody tr th:only-of-type {\n",
       "        vertical-align: middle;\n",
       "    }\n",
       "\n",
       "    .dataframe tbody tr th {\n",
       "        vertical-align: top;\n",
       "    }\n",
       "\n",
       "    .dataframe thead th {\n",
       "        text-align: right;\n",
       "    }\n",
       "</style>\n",
       "<table border=\"1\" class=\"dataframe\">\n",
       "  <thead>\n",
       "    <tr style=\"text-align: right;\">\n",
       "      <th></th>\n",
       "      <th>num_reactions</th>\n",
       "      <th>num_comments</th>\n",
       "      <th>num_shares</th>\n",
       "      <th>num_likes</th>\n",
       "      <th>num_loves</th>\n",
       "      <th>num_wows</th>\n",
       "      <th>num_hahas</th>\n",
       "      <th>num_sads</th>\n",
       "      <th>num_angrys</th>\n",
       "      <th>status_type_link</th>\n",
       "      <th>status_type_photo</th>\n",
       "      <th>status_type_status</th>\n",
       "      <th>status_type_video</th>\n",
       "    </tr>\n",
       "  </thead>\n",
       "  <tbody>\n",
       "    <tr>\n",
       "      <th>0</th>\n",
       "      <td>2.366834</td>\n",
       "      <td>23.090909</td>\n",
       "      <td>65.50</td>\n",
       "      <td>2.272727</td>\n",
       "      <td>30.666667</td>\n",
       "      <td>3.0</td>\n",
       "      <td>1.0</td>\n",
       "      <td>1.0</td>\n",
       "      <td>0.0</td>\n",
       "      <td>0.0</td>\n",
       "      <td>-1.0</td>\n",
       "      <td>0.0</td>\n",
       "      <td>1.0</td>\n",
       "    </tr>\n",
       "    <tr>\n",
       "      <th>1</th>\n",
       "      <td>0.462312</td>\n",
       "      <td>-0.181818</td>\n",
       "      <td>0.00</td>\n",
       "      <td>0.563636</td>\n",
       "      <td>0.000000</td>\n",
       "      <td>0.0</td>\n",
       "      <td>0.0</td>\n",
       "      <td>0.0</td>\n",
       "      <td>0.0</td>\n",
       "      <td>0.0</td>\n",
       "      <td>0.0</td>\n",
       "      <td>0.0</td>\n",
       "      <td>0.0</td>\n",
       "    </tr>\n",
       "    <tr>\n",
       "      <th>2</th>\n",
       "      <td>0.849246</td>\n",
       "      <td>10.545455</td>\n",
       "      <td>14.25</td>\n",
       "      <td>0.890909</td>\n",
       "      <td>7.000000</td>\n",
       "      <td>1.0</td>\n",
       "      <td>1.0</td>\n",
       "      <td>0.0</td>\n",
       "      <td>0.0</td>\n",
       "      <td>0.0</td>\n",
       "      <td>-1.0</td>\n",
       "      <td>0.0</td>\n",
       "      <td>1.0</td>\n",
       "    </tr>\n",
       "    <tr>\n",
       "      <th>3</th>\n",
       "      <td>0.266332</td>\n",
       "      <td>-0.181818</td>\n",
       "      <td>0.00</td>\n",
       "      <td>0.327273</td>\n",
       "      <td>0.000000</td>\n",
       "      <td>0.0</td>\n",
       "      <td>0.0</td>\n",
       "      <td>0.0</td>\n",
       "      <td>0.0</td>\n",
       "      <td>0.0</td>\n",
       "      <td>0.0</td>\n",
       "      <td>0.0</td>\n",
       "      <td>0.0</td>\n",
       "    </tr>\n",
       "    <tr>\n",
       "      <th>4</th>\n",
       "      <td>0.778894</td>\n",
       "      <td>-0.181818</td>\n",
       "      <td>0.00</td>\n",
       "      <td>0.890909</td>\n",
       "      <td>3.000000</td>\n",
       "      <td>0.0</td>\n",
       "      <td>0.0</td>\n",
       "      <td>0.0</td>\n",
       "      <td>0.0</td>\n",
       "      <td>0.0</td>\n",
       "      <td>0.0</td>\n",
       "      <td>0.0</td>\n",
       "      <td>0.0</td>\n",
       "    </tr>\n",
       "  </tbody>\n",
       "</table>\n",
       "</div>"
      ],
      "text/plain": [
       "   num_reactions  num_comments  num_shares  num_likes  num_loves  num_wows  \\\n",
       "0       2.366834     23.090909       65.50   2.272727  30.666667       3.0   \n",
       "1       0.462312     -0.181818        0.00   0.563636   0.000000       0.0   \n",
       "2       0.849246     10.545455       14.25   0.890909   7.000000       1.0   \n",
       "3       0.266332     -0.181818        0.00   0.327273   0.000000       0.0   \n",
       "4       0.778894     -0.181818        0.00   0.890909   3.000000       0.0   \n",
       "\n",
       "   num_hahas  num_sads  num_angrys  status_type_link  status_type_photo  \\\n",
       "0        1.0       1.0         0.0               0.0               -1.0   \n",
       "1        0.0       0.0         0.0               0.0                0.0   \n",
       "2        1.0       0.0         0.0               0.0               -1.0   \n",
       "3        0.0       0.0         0.0               0.0                0.0   \n",
       "4        0.0       0.0         0.0               0.0                0.0   \n",
       "\n",
       "   status_type_status  status_type_video  \n",
       "0                 0.0                1.0  \n",
       "1                 0.0                0.0  \n",
       "2                 0.0                1.0  \n",
       "3                 0.0                0.0  \n",
       "4                 0.0                0.0  "
      ]
     },
     "execution_count": 17,
     "metadata": {},
     "output_type": "execute_result"
    }
   ],
   "source": [
    "scaler = RobustScaler()\n",
    "data_scaled = scaler.fit_transform(data)\n",
    "df = pd.DataFrame(data_scaled, columns = data.columns)\n",
    "df.head()"
   ]
  },
  {
   "cell_type": "code",
   "execution_count": 18,
   "id": "a11262d7",
   "metadata": {},
   "outputs": [
    {
     "data": {
      "text/html": [
       "<div>\n",
       "<style scoped>\n",
       "    .dataframe tbody tr th:only-of-type {\n",
       "        vertical-align: middle;\n",
       "    }\n",
       "\n",
       "    .dataframe tbody tr th {\n",
       "        vertical-align: top;\n",
       "    }\n",
       "\n",
       "    .dataframe thead th {\n",
       "        text-align: right;\n",
       "    }\n",
       "</style>\n",
       "<table border=\"1\" class=\"dataframe\">\n",
       "  <thead>\n",
       "    <tr style=\"text-align: right;\">\n",
       "      <th></th>\n",
       "      <th>num_reactions</th>\n",
       "      <th>num_comments</th>\n",
       "      <th>num_shares</th>\n",
       "      <th>num_likes</th>\n",
       "      <th>num_loves</th>\n",
       "      <th>num_wows</th>\n",
       "      <th>num_hahas</th>\n",
       "      <th>num_sads</th>\n",
       "      <th>num_angrys</th>\n",
       "      <th>status_type_link</th>\n",
       "      <th>status_type_photo</th>\n",
       "      <th>status_type_status</th>\n",
       "      <th>status_type_video</th>\n",
       "    </tr>\n",
       "  </thead>\n",
       "  <tbody>\n",
       "    <tr>\n",
       "      <th>count</th>\n",
       "      <td>6999.000000</td>\n",
       "      <td>6999.000000</td>\n",
       "      <td>6999.000000</td>\n",
       "      <td>6999.000000</td>\n",
       "      <td>6999.000000</td>\n",
       "      <td>6999.000000</td>\n",
       "      <td>6999.000000</td>\n",
       "      <td>6999.000000</td>\n",
       "      <td>6999.000000</td>\n",
       "      <td>6999.000000</td>\n",
       "      <td>6999.000000</td>\n",
       "      <td>6999.000000</td>\n",
       "      <td>6999.000000</td>\n",
       "    </tr>\n",
       "    <tr>\n",
       "      <th>mean</th>\n",
       "      <td>0.839169</td>\n",
       "      <td>10.070549</td>\n",
       "      <td>10.064652</td>\n",
       "      <td>0.926950</td>\n",
       "      <td>4.250512</td>\n",
       "      <td>1.252893</td>\n",
       "      <td>0.697957</td>\n",
       "      <td>0.232605</td>\n",
       "      <td>0.110159</td>\n",
       "      <td>0.009001</td>\n",
       "      <td>-0.393628</td>\n",
       "      <td>0.051293</td>\n",
       "      <td>0.333333</td>\n",
       "    </tr>\n",
       "    <tr>\n",
       "      <th>std</th>\n",
       "      <td>2.275783</td>\n",
       "      <td>40.579228</td>\n",
       "      <td>33.011726</td>\n",
       "      <td>2.663941</td>\n",
       "      <td>13.368957</td>\n",
       "      <td>8.725551</td>\n",
       "      <td>3.970912</td>\n",
       "      <td>1.481105</td>\n",
       "      <td>0.688582</td>\n",
       "      <td>0.094454</td>\n",
       "      <td>0.488589</td>\n",
       "      <td>0.220611</td>\n",
       "      <td>0.471438</td>\n",
       "    </tr>\n",
       "    <tr>\n",
       "      <th>min</th>\n",
       "      <td>-0.291457</td>\n",
       "      <td>-0.181818</td>\n",
       "      <td>0.000000</td>\n",
       "      <td>-0.345455</td>\n",
       "      <td>0.000000</td>\n",
       "      <td>0.000000</td>\n",
       "      <td>0.000000</td>\n",
       "      <td>0.000000</td>\n",
       "      <td>0.000000</td>\n",
       "      <td>0.000000</td>\n",
       "      <td>-1.000000</td>\n",
       "      <td>0.000000</td>\n",
       "      <td>0.000000</td>\n",
       "    </tr>\n",
       "    <tr>\n",
       "      <th>25%</th>\n",
       "      <td>-0.206030</td>\n",
       "      <td>-0.181818</td>\n",
       "      <td>0.000000</td>\n",
       "      <td>-0.242424</td>\n",
       "      <td>0.000000</td>\n",
       "      <td>0.000000</td>\n",
       "      <td>0.000000</td>\n",
       "      <td>0.000000</td>\n",
       "      <td>0.000000</td>\n",
       "      <td>0.000000</td>\n",
       "      <td>-1.000000</td>\n",
       "      <td>0.000000</td>\n",
       "      <td>0.000000</td>\n",
       "    </tr>\n",
       "    <tr>\n",
       "      <th>50%</th>\n",
       "      <td>0.000000</td>\n",
       "      <td>0.000000</td>\n",
       "      <td>0.000000</td>\n",
       "      <td>0.000000</td>\n",
       "      <td>0.000000</td>\n",
       "      <td>0.000000</td>\n",
       "      <td>0.000000</td>\n",
       "      <td>0.000000</td>\n",
       "      <td>0.000000</td>\n",
       "      <td>0.000000</td>\n",
       "      <td>0.000000</td>\n",
       "      <td>0.000000</td>\n",
       "      <td>0.000000</td>\n",
       "    </tr>\n",
       "    <tr>\n",
       "      <th>75%</th>\n",
       "      <td>0.793970</td>\n",
       "      <td>0.818182</td>\n",
       "      <td>1.000000</td>\n",
       "      <td>0.757576</td>\n",
       "      <td>1.000000</td>\n",
       "      <td>0.000000</td>\n",
       "      <td>0.000000</td>\n",
       "      <td>0.000000</td>\n",
       "      <td>0.000000</td>\n",
       "      <td>0.000000</td>\n",
       "      <td>0.000000</td>\n",
       "      <td>0.000000</td>\n",
       "      <td>1.000000</td>\n",
       "    </tr>\n",
       "    <tr>\n",
       "      <th>max</th>\n",
       "      <td>23.376884</td>\n",
       "      <td>953.909091</td>\n",
       "      <td>856.000000</td>\n",
       "      <td>28.200000</td>\n",
       "      <td>219.000000</td>\n",
       "      <td>278.000000</td>\n",
       "      <td>157.000000</td>\n",
       "      <td>51.000000</td>\n",
       "      <td>31.000000</td>\n",
       "      <td>1.000000</td>\n",
       "      <td>0.000000</td>\n",
       "      <td>1.000000</td>\n",
       "      <td>1.000000</td>\n",
       "    </tr>\n",
       "  </tbody>\n",
       "</table>\n",
       "</div>"
      ],
      "text/plain": [
       "       num_reactions  num_comments   num_shares    num_likes    num_loves  \\\n",
       "count    6999.000000   6999.000000  6999.000000  6999.000000  6999.000000   \n",
       "mean        0.839169     10.070549    10.064652     0.926950     4.250512   \n",
       "std         2.275783     40.579228    33.011726     2.663941    13.368957   \n",
       "min        -0.291457     -0.181818     0.000000    -0.345455     0.000000   \n",
       "25%        -0.206030     -0.181818     0.000000    -0.242424     0.000000   \n",
       "50%         0.000000      0.000000     0.000000     0.000000     0.000000   \n",
       "75%         0.793970      0.818182     1.000000     0.757576     1.000000   \n",
       "max        23.376884    953.909091   856.000000    28.200000   219.000000   \n",
       "\n",
       "          num_wows    num_hahas     num_sads   num_angrys  status_type_link  \\\n",
       "count  6999.000000  6999.000000  6999.000000  6999.000000       6999.000000   \n",
       "mean      1.252893     0.697957     0.232605     0.110159          0.009001   \n",
       "std       8.725551     3.970912     1.481105     0.688582          0.094454   \n",
       "min       0.000000     0.000000     0.000000     0.000000          0.000000   \n",
       "25%       0.000000     0.000000     0.000000     0.000000          0.000000   \n",
       "50%       0.000000     0.000000     0.000000     0.000000          0.000000   \n",
       "75%       0.000000     0.000000     0.000000     0.000000          0.000000   \n",
       "max     278.000000   157.000000    51.000000    31.000000          1.000000   \n",
       "\n",
       "       status_type_photo  status_type_status  status_type_video  \n",
       "count        6999.000000         6999.000000        6999.000000  \n",
       "mean           -0.393628            0.051293           0.333333  \n",
       "std             0.488589            0.220611           0.471438  \n",
       "min            -1.000000            0.000000           0.000000  \n",
       "25%            -1.000000            0.000000           0.000000  \n",
       "50%             0.000000            0.000000           0.000000  \n",
       "75%             0.000000            0.000000           1.000000  \n",
       "max             0.000000            1.000000           1.000000  "
      ]
     },
     "execution_count": 18,
     "metadata": {},
     "output_type": "execute_result"
    }
   ],
   "source": [
    "df.describe()"
   ]
  },
  {
   "cell_type": "markdown",
   "id": "bd200e1f",
   "metadata": {},
   "source": [
    "### 1.3 Preproceso: Princial components analysis (PCA)"
   ]
  },
  {
   "cell_type": "markdown",
   "id": "a41e72db",
   "metadata": {},
   "source": [
    "Veamos si es posible reducir dimensiones en función de la influencia de cada variable."
   ]
  },
  {
   "cell_type": "code",
   "execution_count": 19,
   "id": "1c36ea37",
   "metadata": {},
   "outputs": [],
   "source": [
    "pca = PCA().fit(df)"
   ]
  },
  {
   "cell_type": "code",
   "execution_count": 20,
   "id": "5b8a5155",
   "metadata": {},
   "outputs": [
    {
     "data": {
      "image/png": "[encoded data removed]",
      "text/plain": [
       "<Figure size 640x480 with 1 Axes>"
      ]
     },
     "metadata": {},
     "output_type": "display_data"
    }
   ],
   "source": [
    "plt.plot(np.cumsum(pca.explained_variance_ratio_), marker = \"o\")\n",
    "plt.xlim([0, 9])\n",
    "plt.xlabel(\"Número de componentes principales\")\n",
    "plt.ylabel(\"Varianza Acumulada\")\n",
    "plt.title(\"Curva de Varianza Acumulada\")\n",
    "plt.show()"
   ]
  },
  {
   "cell_type": "markdown",
   "id": "8745972e",
   "metadata": {},
   "source": [
    "Vamos a ver cuantos componentes vamos a necesitar. Por el grafico vemos que esta entre 1 y 2 capturo mas del 97% de la varianza."
   ]
  },
  {
   "cell_type": "code",
   "execution_count": 22,
   "id": "e04b8f64",
   "metadata": {},
   "outputs": [
    {
     "name": "stdout",
     "output_type": "stream",
     "text": [
      "Número de componentes para conservar el 95% de la varianza es: 3\n"
     ]
    }
   ],
   "source": [
    "pca = PCA(.97).fit(df)\n",
    "print('Número de componentes para conservar el 95% de la varianza es:', pca.n_components_)"
   ]
  },
  {
   "cell_type": "markdown",
   "id": "10044b65",
   "metadata": {},
   "source": [
    "# Exercici 2\n",
    "## Classifica els diferents registres utilitzant l'algorisme de clustering jeràrquic."
   ]
  },
  {
   "cell_type": "code",
   "execution_count": null,
   "id": "f17b7e09",
   "metadata": {},
   "outputs": [],
   "source": []
  },
  {
   "cell_type": "code",
   "execution_count": null,
   "id": "532cc362",
   "metadata": {},
   "outputs": [],
   "source": []
  },
  {
   "cell_type": "code",
   "execution_count": null,
   "id": "673d470b",
   "metadata": {},
   "outputs": [],
   "source": []
  },
  {
   "cell_type": "code",
   "execution_count": null,
   "id": "f7629e43",
   "metadata": {},
   "outputs": [],
   "source": []
  },
  {
   "cell_type": "code",
   "execution_count": null,
   "id": "ec3c2fd5",
   "metadata": {},
   "outputs": [],
   "source": []
  },
  {
   "cell_type": "code",
   "execution_count": null,
   "id": "aa8c8c45",
   "metadata": {},
   "outputs": [],
   "source": []
  },
  {
   "cell_type": "markdown",
   "id": "137c5577",
   "metadata": {},
   "source": [
    "# Exercici 3\n",
    "## Calcula el rendiment del clustering mitjançant un paràmetre com pot ser silhouette."
   ]
  },
  {
   "cell_type": "code",
   "execution_count": null,
   "id": "2429292f",
   "metadata": {},
   "outputs": [],
   "source": []
  }
 ],
 "metadata": {
  "kernelspec": {
   "display_name": "Python 3 (ipykernel)",
   "language": "python",
   "name": "python3"
  },
  "language_info": {
   "codemirror_mode": {
    "name": "ipython",
    "version": 3
   },
   "file_extension": ".py",
   "mimetype": "text/x-python",
   "name": "python",
   "nbconvert_exporter": "python",
   "pygments_lexer": "ipython3",
   "version": "3.9.12"
  }
 },
 "nbformat": 4,
 "nbformat_minor": 5
}
